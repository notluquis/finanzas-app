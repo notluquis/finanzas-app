{
 "cells": [
  {
   "cell_type": "markdown",
   "id": "c35874b4",
   "metadata": {},
   "source": [
    "# Google Calendar → DataFrame (con `colorId`) \n",
    "\n",
    "Notebook para extraer eventos de **1 o más calendarios** usando la **Google Calendar API**, con `colorId` y **conteos por día/semana/mes**. Pensado para correr en local.\n",
    "\n",
    "## Instrucciones rápidas\n",
    "1. En **Google Cloud Console** crea un *OAuth Client ID (Desktop)* y descarga `credentials.json`.\n",
    "2. Pon `credentials.json` en la misma carpeta donde ejecutes este notebook.\n",
    "3. Ejecuta las celdas en orden. La primera vez se abrirá una ventana para autorizar el acceso.\n"
   ]
  },
  {
   "cell_type": "markdown",
   "id": "b31c87b5",
   "metadata": {},
   "source": [
    "## 2) Imports y configuración base"
   ]
  },
  {
   "cell_type": "code",
   "execution_count": null,
   "id": "46839070",
   "metadata": {
    "execution": {
     "iopub.execute_input": "2025-08-19T01:05:21.457871Z",
     "iopub.status.busy": "2025-08-19T01:05:21.457706Z",
     "iopub.status.idle": "2025-08-19T01:05:22.596691Z",
     "shell.execute_reply": "2025-08-19T01:05:22.596370Z",
     "shell.execute_reply.started": "2025-08-19T01:05:21.457851Z"
    }
   },
   "outputs": [],
   "source": [
    "from __future__ import annotations\n",
    "import datetime as dt\n",
    "from typing import List, Dict, Any\n",
    "from tqdm.notebook import tqdm\n",
    "import pandas as pd\n",
    "import pytz\n",
    "import re\n",
    "from google.oauth2.credentials import Credentials\n",
    "from google_auth_oauthlib.flow import InstalledAppFlow\n",
    "from googleapiclient.discovery import build\n",
    "from google.auth.transport.requests import Request\n",
    "from google.auth.exceptions import RefreshError\n",
    "import matplotlib.pyplot as plt\n",
    "import matplotlib.image as mpimg\n",
    "import calendar\n",
    "import numpy as np\n",
    "import os\n",
    "\n",
    "SCOPES = ['https://www.googleapis.com/auth/calendar.readonly']\n",
    "\n",
    "\n",
    "TZ_DEFAULT = 'America/Santiago'  # cambia si lo necesitas\n",
    "pd.set_option('display.max_colwidth', None)\n",
    "pd.set_option('display.max_rows', None)"
   ]
  },
  {
   "cell_type": "markdown",
   "id": "37dd143f",
   "metadata": {},
   "source": [
    "## 3) Autenticación y construcción del servicio"
   ]
  },
  {
   "cell_type": "code",
   "execution_count": null,
   "id": "ac2175d5",
   "metadata": {
    "execution": {
     "iopub.execute_input": "2025-08-19T01:05:22.859994Z",
     "iopub.status.busy": "2025-08-19T01:05:22.859544Z",
     "iopub.status.idle": "2025-08-19T01:05:38.005008Z",
     "shell.execute_reply": "2025-08-19T01:05:38.004178Z",
     "shell.execute_reply.started": "2025-08-19T01:05:22.859951Z"
    }
   },
   "outputs": [],
   "source": [
    "\n",
    "def get_service(credentials_path: str = 'credentials.json', token_path: str = 'token.json'):\n",
    "    creds = None\n",
    "\n",
    "    # Try to load existing token\n",
    "    if os.path.exists(token_path):\n",
    "        try:\n",
    "            creds = Credentials.from_authorized_user_file(token_path, SCOPES)\n",
    "        except Exception:\n",
    "            # Corrupt or incompatible token file – delete it and start fresh\n",
    "            try:\n",
    "                os.remove(token_path)\n",
    "            except OSError:\n",
    "                pass\n",
    "            creds = None\n",
    "\n",
    "    # If there are no (valid) creds, try to refresh; if that fails, re-auth\n",
    "    if not creds or not creds.valid:\n",
    "        if creds and creds.expired and creds.refresh_token:\n",
    "            try:\n",
    "                creds.refresh(Request())\n",
    "            except RefreshError:\n",
    "                # Refresh token revoked/expired → delete token and force new consent\n",
    "                try:\n",
    "                    os.remove(token_path)\n",
    "                except OSError:\n",
    "                    pass\n",
    "                creds = None\n",
    "\n",
    "        if not creds or not creds.valid:\n",
    "            flow = InstalledAppFlow.from_client_secrets_file(credentials_path, SCOPES)\n",
    "            # Opción A (simple): sin include_granted_scopes\n",
    "            creds = flow.run_local_server(\n",
    "                port=0,\n",
    "                access_type='offline',\n",
    "                prompt='consent'\n",
    "            )\n",
    "        # Persist the fresh token\n",
    "        with open(token_path, 'w') as token:\n",
    "            token.write(creds.to_json())\n",
    "\n",
    "    return build('calendar', 'v3', credentials=creds)\n",
    "\n",
    "service = get_service()"
   ]
  },
  {
   "cell_type": "markdown",
   "id": "4536e946",
   "metadata": {},
   "source": [
    "## 4) Listar calendarios disponibles"
   ]
  },
  {
   "cell_type": "code",
   "execution_count": null,
   "id": "3d685954",
   "metadata": {
    "execution": {
     "iopub.execute_input": "2025-08-19T01:05:44.006563Z",
     "iopub.status.busy": "2025-08-19T01:05:44.006198Z",
     "iopub.status.idle": "2025-08-19T01:05:45.497942Z",
     "shell.execute_reply": "2025-08-19T01:05:45.497612Z",
     "shell.execute_reply.started": "2025-08-19T01:05:44.006537Z"
    }
   },
   "outputs": [],
   "source": [
    "def list_calendars(service) -> List[Dict[str, Any]]:\n",
    "    cals = []\n",
    "    page_token = None\n",
    "    while True:\n",
    "        res = service.calendarList().list(pageToken=page_token, maxResults=250).execute()\n",
    "        cals.extend(res.get('items', []))\n",
    "        page_token = res.get('nextPageToken')\n",
    "        if not page_token:\n",
    "            break\n",
    "    return cals\n",
    "\n",
    "calendars = list_calendars(service)\n",
    "df_cals = pd.DataFrame([{'id': c['id'], 'summary': c.get('summary', ''), 'primary': c.get('primary', False)} for c in calendars])\n",
    "df_cals"
   ]
  },
  {
   "cell_type": "markdown",
   "id": "28af3587",
   "metadata": {},
   "source": [
    "👉 Copia aquí los **IDs de tus 3 calendarios** (puedes usar `'primary'` para el principal)."
   ]
  },
  {
   "cell_type": "code",
   "execution_count": null,
   "id": "8370fd7e",
   "metadata": {
    "execution": {
     "iopub.execute_input": "2025-08-19T01:05:48.283908Z",
     "iopub.status.busy": "2025-08-19T01:05:48.283590Z",
     "iopub.status.idle": "2025-08-19T01:05:48.289751Z",
     "shell.execute_reply": "2025-08-19T01:05:48.289213Z",
     "shell.execute_reply.started": "2025-08-19T01:05:48.283883Z"
    }
   },
   "outputs": [],
   "source": [
    "# EDITA ESTA LISTA con tus 3 calendarios\n",
    "CAL_IDS = [\n",
    "    'primary',\n",
    "    '4umck5jddsi4iv1tlbprfg2ko0@group.calendar.google.com',\n",
    "    'k96ls1bdk7te68hsbnlhs0bbt0@group.calendar.google.com',\n",
    "]\n",
    "len(CAL_IDS), CAL_IDS"
   ]
  },
  {
   "cell_type": "markdown",
   "id": "6e3ad004",
   "metadata": {},
   "source": [
    "## 5) Rango de fechas y zona horaria"
   ]
  },
  {
   "cell_type": "code",
   "execution_count": null,
   "id": "c2d6dbfa",
   "metadata": {
    "execution": {
     "iopub.execute_input": "2025-08-19T01:05:49.007881Z",
     "iopub.status.busy": "2025-08-19T01:05:49.007302Z",
     "iopub.status.idle": "2025-08-19T01:05:49.013780Z",
     "shell.execute_reply": "2025-08-19T01:05:49.013145Z",
     "shell.execute_reply.started": "2025-08-19T01:05:49.007849Z"
    }
   },
   "outputs": [],
   "source": [
    "# EDITA las fechas a tu necesidad\n",
    "START_DATE = '2000-01-01'  # inclusive\n",
    "END_DATE   = '2026-08-31'  # inclusive\n",
    "\n",
    "def iso_z(dt_str: str) -> str:\n",
    "    return dt_str if dt_str.endswith('Z') else dt_str + 'Z'\n",
    "\n",
    "start_iso = iso_z(START_DATE + 'T00:00:00')\n",
    "end_dt = dt.datetime.fromisoformat(END_DATE) + dt.timedelta(days=1)\n",
    "end_iso = iso_z(end_dt.strftime('%Y-%m-%dT00:00:00'))\n",
    "\n",
    "start_iso, end_iso\n"
   ]
  },
  {
   "cell_type": "markdown",
   "id": "6a73fc8f",
   "metadata": {},
   "source": [
    "## 6) Descargar mapa de colores (event y calendar)"
   ]
  },
  {
   "cell_type": "code",
   "execution_count": null,
   "id": "0df00dd2",
   "metadata": {
    "execution": {
     "iopub.execute_input": "2025-08-19T01:05:49.295605Z",
     "iopub.status.busy": "2025-08-19T01:05:49.294991Z",
     "iopub.status.idle": "2025-08-19T01:05:49.574522Z",
     "shell.execute_reply": "2025-08-19T01:05:49.573827Z",
     "shell.execute_reply.started": "2025-08-19T01:05:49.295560Z"
    }
   },
   "outputs": [],
   "source": [
    "def get_colors_map(service) -> Dict[str, Dict[str, str]]:\n",
    "    colors = service.colors().get().execute()\n",
    "    return {\n",
    "        \"event\": {k: v.get('background', '') for k, v in colors.get('event', {}).items()},\n",
    "        \"calendar\": {k: v.get('background', '') for k, v in colors.get('calendar', {}).items()},\n",
    "    }\n",
    "\n",
    "colors_map = get_colors_map(service)\n",
    "colors_map['event']  # colorId -> HEX\n"
   ]
  },
  {
   "cell_type": "markdown",
   "id": "15a793b4",
   "metadata": {},
   "source": [
    "## 7) Funciones utilitarias (fetch de eventos y fecha local)"
   ]
  },
  {
   "cell_type": "code",
   "execution_count": null,
   "id": "736eed9a",
   "metadata": {
    "execution": {
     "iopub.execute_input": "2025-08-19T01:05:49.576363Z",
     "iopub.status.busy": "2025-08-19T01:05:49.576112Z",
     "iopub.status.idle": "2025-08-19T01:05:49.581593Z",
     "shell.execute_reply": "2025-08-19T01:05:49.580998Z",
     "shell.execute_reply.started": "2025-08-19T01:05:49.576338Z"
    }
   },
   "outputs": [],
   "source": [
    "def fetch_events(service, calendar_id: str, time_min: str, time_max: str, max_results: int = 2500):\n",
    "    events = []\n",
    "    page_token = None\n",
    "    pbar = tqdm(desc=f\"Páginas: {calendar_id}\", unit=\"page\", leave=False)\n",
    "\n",
    "    while True:\n",
    "        res = service.events().list(\n",
    "            calendarId=calendar_id,\n",
    "            timeMin=time_min,\n",
    "            timeMax=time_max,\n",
    "            singleEvents=True,\n",
    "            orderBy=\"startTime\",\n",
    "            maxResults=max_results,\n",
    "            timeZone=TZ_DEFAULT,\n",
    "            fields=\"items(summary,description,colorId,start(date,dateTime)),nextPageToken\",\n",
    "            pageToken=page_token\n",
    "        ).execute()\n",
    "\n",
    "        items = res.get(\"items\", [])\n",
    "        events.extend(items)\n",
    "        pbar.update(1)\n",
    "\n",
    "        page_token = res.get(\"nextPageToken\")\n",
    "        if not page_token:\n",
    "            break\n",
    "\n",
    "    pbar.close()\n",
    "    return events"
   ]
  },
  {
   "cell_type": "markdown",
   "id": "34ed64d4",
   "metadata": {},
   "source": [
    "## 8) Descargar eventos de los 3 calendarios y construir DataFrame"
   ]
  },
  {
   "cell_type": "code",
   "execution_count": null,
   "id": "4db7d14d-59c2-4693-a308-341bd6f62929",
   "metadata": {
    "execution": {
     "iopub.execute_input": "2025-08-19T01:05:49.846743Z",
     "iopub.status.busy": "2025-08-19T01:05:49.846360Z",
     "iopub.status.idle": "2025-08-19T01:06:38.550545Z",
     "shell.execute_reply": "2025-08-19T01:06:38.550098Z",
     "shell.execute_reply.started": "2025-08-19T01:05:49.846712Z"
    }
   },
   "outputs": [],
   "source": [
    "rows = []\n",
    "local_tz = pytz.timezone(TZ_DEFAULT)\n",
    "\n",
    "for cid in tqdm(CAL_IDS, desc=\"Calendarios\", unit=\"cal\"):\n",
    "    events = fetch_events(service, cid, start_iso, end_iso)\n",
    "\n",
    "    cal_list = service.calendarList().get(calendarId=cid).execute()\n",
    "    cal_summary = cal_list.get('summary', cid)\n",
    "\n",
    "    for ev in tqdm(events, desc=f\"Eventos: {cal_summary}\", unit=\"evt\", leave=False):\n",
    "        start_info = ev.get('start', {})\n",
    "        start_raw_date = start_info.get('date')\n",
    "        start_raw_dt   = start_info.get('dateTime')\n",
    "\n",
    "        # Fecha sola (para día completo o con hora)\n",
    "        try:\n",
    "            start_date = pd.to_datetime(start_raw_date or start_raw_dt).date()\n",
    "        except Exception:\n",
    "            start_date = None\n",
    "\n",
    "        # Fecha + hora en TZ_LOCAL\n",
    "        try:\n",
    "            if start_raw_dt:\n",
    "                # Tiene hora → parsear y convertir a TZ_DEFAULT\n",
    "                dt_parsed = pd.to_datetime(start_raw_dt)\n",
    "                if dt_parsed.tzinfo is None:\n",
    "                    dt_parsed = dt_parsed.tz_localize(\"UTC\")\n",
    "                start_datetime = dt_parsed.astimezone(local_tz)\n",
    "            elif start_raw_date:\n",
    "                # Día completo → poner hora 00:00:00 en TZ_DEFAULT\n",
    "                dt_parsed = pd.to_datetime(start_raw_date)\n",
    "                start_datetime = local_tz.localize(dt_parsed)\n",
    "            else:\n",
    "                start_datetime = None\n",
    "        except Exception:\n",
    "            start_datetime = None\n",
    "\n",
    "        rows.append({\n",
    "            \"calendar_id\": cid,\n",
    "            \"summary\": ev.get('summary', ''),\n",
    "            \"description\": ev.get('description', ''),\n",
    "            \"color_id\": ev.get('colorId', ''),\n",
    "            \"date\": start_date,\n",
    "            \"date_time\": start_datetime\n",
    "        })"
   ]
  },
  {
   "cell_type": "code",
   "execution_count": null,
   "id": "927fbc31-b797-4524-955b-6a438bc9598e",
   "metadata": {
    "execution": {
     "iopub.execute_input": "2025-08-19T01:06:38.552374Z",
     "iopub.status.busy": "2025-08-19T01:06:38.552270Z",
     "iopub.status.idle": "2025-08-19T01:06:38.638888Z",
     "shell.execute_reply": "2025-08-19T01:06:38.638641Z",
     "shell.execute_reply.started": "2025-08-19T01:06:38.552366Z"
    }
   },
   "outputs": [],
   "source": [
    "df = pd.DataFrame(rows)\n",
    "df.head()"
   ]
  },
  {
   "cell_type": "code",
   "execution_count": null,
   "id": "8cc759cf-e769-4435-984e-19e77119f569",
   "metadata": {
    "execution": {
     "iopub.execute_input": "2025-08-19T01:06:38.639322Z",
     "iopub.status.busy": "2025-08-19T01:06:38.639237Z",
     "iopub.status.idle": "2025-08-19T01:06:38.902166Z",
     "shell.execute_reply": "2025-08-19T01:06:38.901882Z",
     "shell.execute_reply.started": "2025-08-19T01:06:38.639313Z"
    }
   },
   "outputs": [],
   "source": [
    "keywords = [\n",
    "    \"vacuna\", \"vacunas\", \"vac\\\\.\", \n",
    "    \"clustoid\", \"clustek\", \"dosis\", \"mantención\", \"mantención\",\n",
    "    \"inmunoterapia\"\n",
    "]\n",
    "pattern = r'(?:' + '|'.join(keywords) + r')'\n",
    "\n",
    "df['is_vacuna'] = (\n",
    "    df['summary'].fillna('').str.contains(pattern, flags=re.IGNORECASE, regex=True) |\n",
    "    df['description'].fillna('').str.contains(pattern, flags=re.IGNORECASE, regex=True)\n",
    ")\n",
    "\n",
    "# Patrón para detectar COVID y sus variantes\n",
    "covid_pattern = r'covid(?:[\\s-]*19)?'\n",
    "\n",
    "df['is_covid'] = (\n",
    "    df['summary'].fillna('').str.contains(covid_pattern, flags=re.IGNORECASE, regex=True) |\n",
    "    df['description'].fillna('').str.contains(covid_pattern, flags=re.IGNORECASE, regex=True)\n",
    ")"
   ]
  },
  {
   "cell_type": "code",
   "execution_count": null,
   "id": "a0036b6b-f06c-40fa-a784-faef1b2acd4a",
   "metadata": {
    "execution": {
     "iopub.execute_input": "2025-08-19T01:06:38.903304Z",
     "iopub.status.busy": "2025-08-19T01:06:38.903186Z",
     "iopub.status.idle": "2025-08-19T01:06:38.924802Z",
     "shell.execute_reply": "2025-08-19T01:06:38.924426Z",
     "shell.execute_reply.started": "2025-08-19T01:06:38.903295Z"
    }
   },
   "outputs": [],
   "source": [
    "df_summary = (\n",
    "    df.assign(\n",
    "        is_vacuna=df['is_vacuna'].fillna(False),\n",
    "        is_covid=df['is_covid'].fillna(False),\n",
    "        no_vac_no_covid=lambda x: (~x['is_vacuna'] & ~x['is_covid']).astype(int),\n",
    "        no_vac_si_covid=lambda x: (~x['is_vacuna'] &  x['is_covid']).astype(int),\n",
    "        si_vac_no_covid=lambda x: ( x['is_vacuna'] & ~x['is_covid']).astype(int),\n",
    "        si_vac_si_covid=lambda x: ( x['is_vacuna'] &  x['is_covid']).astype(int),\n",
    "    )\n",
    "    .groupby('color_id')\n",
    "    .agg(\n",
    "        first_date=('date', 'min'),\n",
    "        count=('date', 'size'),\n",
    "        last_date=('date', 'max'),\n",
    "        vacuna_count=('is_vacuna', 'sum'),\n",
    "        covid_count=('is_covid', 'sum'),\n",
    "        no_vac_no_covid=('no_vac_no_covid', 'sum'),\n",
    "        no_vac_si_covid=('no_vac_si_covid', 'sum'),\n",
    "        si_vac_no_covid=('si_vac_no_covid', 'sum'),\n",
    "        si_vac_si_covid=('si_vac_si_covid', 'sum'),\n",
    "    )\n",
    "    .reset_index()\n",
    "    .sort_values('first_date')\n",
    ")"
   ]
  },
  {
   "cell_type": "code",
   "execution_count": null,
   "id": "7f5e867e-74e4-4705-ac07-7ded4b1b0bec",
   "metadata": {
    "execution": {
     "iopub.execute_input": "2025-08-19T01:06:38.925187Z",
     "iopub.status.busy": "2025-08-19T01:06:38.925104Z",
     "iopub.status.idle": "2025-08-19T01:06:38.929518Z",
     "shell.execute_reply": "2025-08-19T01:06:38.929294Z",
     "shell.execute_reply.started": "2025-08-19T01:06:38.925177Z"
    }
   },
   "outputs": [],
   "source": [
    "df_summary"
   ]
  },
  {
   "cell_type": "code",
   "execution_count": null,
   "id": "4b6597b6-38dd-47e7-ae5c-6955d93fa7e5",
   "metadata": {
    "execution": {
     "iopub.execute_input": "2025-08-19T01:06:38.929909Z",
     "iopub.status.busy": "2025-08-19T01:06:38.929837Z",
     "iopub.status.idle": "2025-08-19T01:06:38.933882Z",
     "shell.execute_reply": "2025-08-19T01:06:38.933651Z",
     "shell.execute_reply.started": "2025-08-19T01:06:38.929901Z"
    }
   },
   "outputs": [],
   "source": [
    "df_vacuna = df[df['is_vacuna']].copy()"
   ]
  },
  {
   "cell_type": "code",
   "execution_count": null,
   "id": "41bf88fd-ac17-4cdf-989b-43a3b129c2ab",
   "metadata": {
    "execution": {
     "iopub.execute_input": "2025-08-19T01:06:38.934244Z",
     "iopub.status.busy": "2025-08-19T01:06:38.934156Z",
     "iopub.status.idle": "2025-08-19T01:06:38.937955Z",
     "shell.execute_reply": "2025-08-19T01:06:38.937638Z",
     "shell.execute_reply.started": "2025-08-19T01:06:38.934236Z"
    }
   },
   "outputs": [],
   "source": [
    "data = df_vacuna.copy()\n",
    "data['date'] = pd.to_datetime(data['date'])  # aquí sí conviertes"
   ]
  },
  {
   "cell_type": "code",
   "execution_count": null,
   "id": "0f78f08b-80c1-4408-8b1d-0a50674d3b72",
   "metadata": {
    "execution": {
     "iopub.execute_input": "2025-08-19T01:06:38.938333Z",
     "iopub.status.busy": "2025-08-19T01:06:38.938246Z",
     "iopub.status.idle": "2025-08-19T01:06:38.944649Z",
     "shell.execute_reply": "2025-08-19T01:06:38.944406Z",
     "shell.execute_reply.started": "2025-08-19T01:06:38.938324Z"
    }
   },
   "outputs": [],
   "source": [
    "# === 1) Campos de fecha útiles ===\n",
    "data['year'] = data['date'].dt.year\n",
    "data['month'] = data['date'].dt.month\n",
    "data['month_name'] = data['date'].dt.month_name()\n",
    "data['weekday'] = data['date'].dt.weekday\n",
    "data['weekday_name'] = data['date'].dt.day_name()"
   ]
  },
  {
   "cell_type": "code",
   "execution_count": null,
   "id": "559bec6f-f02b-4ad4-bc46-6984a328aa8a",
   "metadata": {
    "execution": {
     "iopub.execute_input": "2025-08-19T01:06:38.945040Z",
     "iopub.status.busy": "2025-08-19T01:06:38.944964Z",
     "iopub.status.idle": "2025-08-19T01:06:38.946965Z",
     "shell.execute_reply": "2025-08-19T01:06:38.946733Z",
     "shell.execute_reply.started": "2025-08-19T01:06:38.945032Z"
    }
   },
   "outputs": [],
   "source": [
    "# Orden y etiquetas (lunes a sábado)\n",
    "months_order = list(range(1, 13))\n",
    "weekday_order = list(range(0, 6))  # 0=Lun ... 5=Sáb\n",
    "weekday_labels = ['Lun','Mar','Mié','Jue','Vie','Sáb']\n",
    "month_labels = ['Ene','Feb','Mar','Abr','May','Jun','Jul','Ago','Sep','Oct','Nov','Dic']\n",
    "colors = ['#4C72B0', '#55A868', '#C44E52']  # Azul, verde, rojo"
   ]
  },
  {
   "cell_type": "code",
   "execution_count": null,
   "id": "2b56cbea-64ff-4980-8d60-98cf30ccf1a3",
   "metadata": {
    "execution": {
     "iopub.execute_input": "2025-08-19T01:06:38.948385Z",
     "iopub.status.busy": "2025-08-19T01:06:38.948305Z",
     "iopub.status.idle": "2025-08-19T01:06:38.949817Z",
     "shell.execute_reply": "2025-08-19T01:06:38.949603Z",
     "shell.execute_reply.started": "2025-08-19T01:06:38.948377Z"
    }
   },
   "outputs": [],
   "source": [
    "from datetime import datetime\n",
    "\n",
    "fecha_hoy = datetime.today().strftime('%d-%m-%Y')"
   ]
  },
  {
   "cell_type": "code",
   "execution_count": null,
   "id": "5d16c41e-caad-4b52-a276-416e6e8e2fd8",
   "metadata": {
    "execution": {
     "iopub.execute_input": "2025-08-19T01:06:38.950192Z",
     "iopub.status.busy": "2025-08-19T01:06:38.950120Z",
     "iopub.status.idle": "2025-08-19T01:06:43.759989Z",
     "shell.execute_reply": "2025-08-19T01:06:43.759391Z",
     "shell.execute_reply.started": "2025-08-19T01:06:38.950184Z"
    }
   },
   "outputs": [],
   "source": [
    "fig, axes = plt.subplots(2, 2, figsize=(15, 9), layout='tight')\n",
    "\n",
    "# 1) Por año\n",
    "counts_year = data['year'].value_counts().sort_index()\n",
    "counts_year.plot(kind='bar', ax=axes[0,0], color=colors[0], rot=45)\n",
    "axes[0,0].set_title('Tratamientos por año')\n",
    "axes[0,0].set_xlabel('Año')\n",
    "axes[0,0].set_ylabel('Conteo')\n",
    "\n",
    "# 2) Por mes (agregado)\n",
    "counts_month = data['month'].value_counts().reindex(months_order, fill_value=0)\n",
    "counts_month.plot(kind='bar', ax=axes[0,1], color=colors[1])\n",
    "axes[0,1].set_title('Tratamientos por mes')\n",
    "axes[0,1].set_xlabel('Mes')\n",
    "axes[0,1].set_ylabel('Conteo')\n",
    "axes[0,1].set_xticks(range(len(month_labels)))\n",
    "axes[0,1].set_xticklabels(month_labels, rotation=0)\n",
    "\n",
    "# 3) Por día de la semana (lunes a sábado)\n",
    "counts_weekday = (\n",
    "    data.loc[data['weekday'] <= 5, 'weekday']\n",
    "    .value_counts().reindex(weekday_order, fill_value=0)\n",
    ")\n",
    "counts_weekday.plot(kind='bar', ax=axes[1,0], color=colors[2])\n",
    "axes[1,0].set_title('Tratamientos por día de la semana')\n",
    "axes[1,0].set_xlabel('Día de la semana')\n",
    "axes[1,0].set_ylabel('Conteo')\n",
    "axes[1,0].set_xticks(range(len(weekday_labels)))\n",
    "axes[1,0].set_xticklabels(weekday_labels, rotation=0)\n",
    "\n",
    "# 4) Heatmap Año × Mes\n",
    "piv = (\n",
    "    data.pivot_table(index='year', columns='month', values='date',\n",
    "                     aggfunc='size', fill_value=0)\n",
    "    .reindex(columns=months_order)\n",
    ")\n",
    "im = axes[1,1].imshow(piv.values, aspect='auto', cmap='coolwarm')\n",
    "\n",
    "axes[1,1].set_title('Tratamientos por año y mes')\n",
    "axes[1,1].set_xlabel('Mes')\n",
    "axes[1,1].set_ylabel('Año')\n",
    "axes[1,1].set_xticks(range(len(month_labels)))\n",
    "axes[1,1].set_xticklabels(month_labels, rotation=0)\n",
    "axes[1,1].set_yticks(range(len(piv.index)))\n",
    "axes[1,1].set_yticklabels(piv.index.astype(str))\n",
    "\n",
    "# Anotaciones en cada celda del heatmap\n",
    "vals = piv.values\n",
    "for i in range(vals.shape[0]):\n",
    "    for j in range(vals.shape[1]):\n",
    "        axes[1,1].text(\n",
    "            j, i, str(int(vals[i, j])),\n",
    "            ha='center', va='center',\n",
    "            fontsize=10,\n",
    "            color='white' if vals[i, j] > vals.max() * 0.6 else 'black'\n",
    "        )\n",
    "\n",
    "# Barra de color para el heatmap\n",
    "cbar = fig.colorbar(im, ax=axes[1,1], fraction=0.046, pad=0.04)\n",
    "cbar.set_label('Conteo', rotation=90)\n",
    "\n",
    "# Anotar valores sobre las barras\n",
    "for ax in axes.flatten():\n",
    "    for p in ax.patches:\n",
    "        ax.annotate(f'{int(p.get_height())}', \n",
    "                    (p.get_x() + p.get_width() / 2., p.get_height()),\n",
    "                    ha='center', va='bottom', fontsize=10)\n",
    "    ax.title.set_fontsize(18)\n",
    "    ax.title.set_weight('bold')\n",
    "fig.text(0.001, 0.001, 'Bioalergia Chile | www.bioalergia.cl | ' + fecha_hoy,\n",
    "         fontsize=10, color='gray', ha='left')\n",
    "logo = mpimg.imread('logo.png')\n",
    "fig.figimage(logo, alpha=0.1, zorder=-1)\n",
    "plt.savefig('resumen_general.pdf',dpi=1200)\n",
    "plt.show()"
   ]
  },
  {
   "cell_type": "code",
   "execution_count": null,
   "id": "2844e71b-fc7c-4c31-8e27-6296696ca182",
   "metadata": {
    "execution": {
     "iopub.execute_input": "2025-08-19T01:06:43.761070Z",
     "iopub.status.busy": "2025-08-19T01:06:43.760929Z",
     "iopub.status.idle": "2025-08-19T01:06:44.854088Z",
     "shell.execute_reply": "2025-08-19T01:06:44.853672Z",
     "shell.execute_reply.started": "2025-08-19T01:06:43.761059Z"
    }
   },
   "outputs": [],
   "source": [
    "# Datos 2025\n",
    "data_2025 = (\n",
    "    data.loc[(data['year'] == 2025) & (data['date'].dt.month <= 9)].copy()\n",
    "    .assign(\n",
    "        month=lambda d: d['date'].dt.month,\n",
    "        weekday=lambda d: d['date'].dt.weekday,\n",
    "        wom=lambda d: ((d['date'].dt.day - 1) // 7) + 1\n",
    "    )\n",
    ")\n",
    "\n",
    "month_labels  = ['Ene','Feb','Mar','Abr','May','Jun','Jul','Ago','Sep']\n",
    "months_order  = list(range(1, 10))\n",
    "weekday_labels = ['Lun','Mar','Mié','Jue','Vie','Sáb']\n",
    "weekday_order  = [0,1,2,3,4,5]\n",
    "\n",
    "# paleta simple para los 4 paneles (sin forzar colores exactos)\n",
    "colors = plt.rcParams['axes.prop_cycle'].by_key()['color']\n",
    "\n",
    "fig, axes = plt.subplots(2, 2, figsize=(15, 10), layout='tight')\n",
    "\n",
    "# === 1) Eventos por mes (2025) ===\n",
    "counts_month = data_2025['month'].value_counts().reindex(months_order, fill_value=0)\n",
    "counts_month.plot(kind='bar', ax=axes[0,0], color=colors[0])\n",
    "axes[0,0].set_title('Eventos por mes (2025)')\n",
    "axes[0,0].set_xlabel('Mes'); axes[0,0].set_ylabel('Conteo')\n",
    "axes[0,0].set_xticks(range(len(month_labels)))\n",
    "axes[0,0].set_xticklabels(month_labels, rotation=0)\n",
    "\n",
    "# === 2) Eventos por día de la semana (Lun–Sáb) ===\n",
    "counts_weekday = (\n",
    "    data_2025.loc[data_2025['weekday'] <= 5, 'weekday']\n",
    "    .value_counts().reindex(weekday_order, fill_value=0)\n",
    ")\n",
    "counts_weekday.plot(kind='bar', ax=axes[0,1], color=colors[1])\n",
    "axes[0,1].set_title('Eventos por día de la semana (2025)')\n",
    "axes[0,1].set_xlabel('Día de la semana'); axes[0,1].set_ylabel('Conteo')\n",
    "axes[0,1].set_xticks(range(len(weekday_labels)))\n",
    "axes[0,1].set_xticklabels(weekday_labels, rotation=0)\n",
    "\n",
    "# === 3) Día de la semana en cada mes (stacked) ===\n",
    "pivot_month_weekday = (\n",
    "    data_2025.loc[data_2025['weekday'] <= 5]\n",
    "    .pivot_table(index='month', columns='weekday', values='date', aggfunc='size', fill_value=0)\n",
    "    .reindex(index=months_order, columns=weekday_order)\n",
    ")\n",
    "pivot_month_weekday.plot(kind='bar', stacked=True, ax=axes[1,0])\n",
    "axes[1,0].set_title('Eventos por día de la semana en cada mes (2025)')\n",
    "axes[1,0].set_xlabel('Mes'); axes[1,0].set_ylabel('Conteo')\n",
    "axes[1,0].legend(weekday_labels, ncol=3, frameon=False)\n",
    "axes[1,0].set_xticks(range(len(month_labels)))\n",
    "axes[1,0].set_xticklabels(month_labels, rotation=0)\n",
    "\n",
    "d25 = data_2025.copy()\n",
    "month_start = d25['date'].values.astype('datetime64[M]')\n",
    "d25['week_of_month'] = ((d25['date'] - month_start).dt.days // 7 + 1).clip(1, 5)\n",
    "\n",
    "piv_wom = (d25\n",
    "           .groupby(['month','week_of_month'])\n",
    "           .size()\n",
    "           .unstack(fill_value=0)\n",
    "           .reindex(index=months_order, columns=[1,2,3,4,5]))\n",
    "\n",
    "piv_wom.plot(kind='bar', ax=axes[1,1], width=0.85)\n",
    "\n",
    "axes[1,1].set_title('Eventos por semana del mes (2025)')\n",
    "axes[1,1].set_xlabel('Mes')\n",
    "axes[1,1].set_ylabel('Conteo')\n",
    "axes[1,1].set_xticklabels(month_labels, rotation=0)\n",
    "axes[1,1].legend([f'Sem {i}' for i in [1,2,3,4,5]], fontsize=12)\n",
    "\n",
    "# — Toques opcionales de estética y valores encima de las barras —\n",
    "for ax in [axes[0,0], axes[0,1]]:\n",
    "    for p in ax.patches:\n",
    "        h = p.get_height()\n",
    "        if h > 0:\n",
    "            ax.annotate(f'{int(h)}',\n",
    "                        (p.get_x() + p.get_width() / 2, h),\n",
    "                        ha='center', va='bottom', fontsize=10)\n",
    "\n",
    "# Totales solo para el stacked (3er gráfico)\n",
    "totales_mes = pivot_month_weekday.sum(axis=1).values\n",
    "for i, total in enumerate(totales_mes):\n",
    "    axes[1,0].annotate(f'{int(total)}',\n",
    "                       (i, total),\n",
    "                       ha='center', va='bottom', fontsize=10)\n",
    "for ax in axes.flatten():\n",
    "    ax.title.set_fontsize(18)\n",
    "    ax.title.set_weight('bold')\n",
    "    ax.xaxis.label.set_fontsize(14)\n",
    "    ax.yaxis.label.set_fontsize(14)\n",
    "    ax.tick_params(axis='both', labelsize=14)\n",
    "\n",
    "fig.text(0.001, 0.001, 'Bioalergia Chile | www.bioalergia.cl | ' + fecha_hoy,\n",
    "         fontsize=10, color='gray', ha='left')\n",
    "logo = mpimg.imread('logo.png')\n",
    "fig.figimage(logo, alpha=0.1, zorder=-1)\n",
    "plt.savefig('resumen_2025.pdf',dpi=1200)\n",
    "plt.show()"
   ]
  },
  {
   "cell_type": "code",
   "execution_count": null,
   "id": "4941195b-9b9a-4976-92d6-b48ae6bb34ab",
   "metadata": {
    "execution": {
     "iopub.execute_input": "2025-08-19T01:06:44.854585Z",
     "iopub.status.busy": "2025-08-19T01:06:44.854498Z",
     "iopub.status.idle": "2025-08-19T01:06:44.861732Z",
     "shell.execute_reply": "2025-08-19T01:06:44.861491Z",
     "shell.execute_reply.started": "2025-08-19T01:06:44.854576Z"
    }
   },
   "outputs": [],
   "source": [
    "def calendar_heatmap_month(df, year, month,\n",
    "                           monday_to_saturday=True,\n",
    "                           cmap='YlOrRd',\n",
    "                           ax=None,\n",
    "                           vmin=None, vmax=None,\n",
    "                           show_week_sums=True):\n",
    "    \"\"\"\n",
    "    Heatmap tipo calendario para (year, month).\n",
    "    Si show_week_sums=True agrega una columna 'Σ' con el total por semana.\n",
    "    Devuelve (fig, ax, im).\n",
    "    \"\"\"\n",
    "    # --- datos del mes ---\n",
    "    d = df[(df['date'].dt.year == year) & (df['date'].dt.month == month)]\n",
    "    counts = d.groupby(d['date'].dt.day).size()\n",
    "\n",
    "    cal = calendar.Calendar(firstweekday=0)  # 0=Lunes\n",
    "    weeks = cal.monthdayscalendar(year, month)  # lista de semanas (7 columnas con 0s)\n",
    "\n",
    "    if monday_to_saturday:\n",
    "        weeks = [w[:-1] for w in weeks]  # recorta domingo\n",
    "        ncols = 6\n",
    "        weekday_labels = ['Lun','Mar','Mié','Jue','Vie','Sáb']\n",
    "    else:\n",
    "        ncols = 7\n",
    "        weekday_labels = ['Lun','Mar','Mié','Jue','Vie','Sáb','Dom']\n",
    "\n",
    "    nrows = len(weeks)\n",
    "    grid = np.zeros((nrows, ncols), dtype=int)\n",
    "    mask_empty = np.zeros((nrows, ncols), dtype=bool)\n",
    "\n",
    "    for i, w in enumerate(weeks):\n",
    "        for j, day in enumerate(w):\n",
    "            if day == 0:\n",
    "                mask_empty[i, j] = True\n",
    "            else:\n",
    "                grid[i, j] = int(counts.get(day, 0))\n",
    "    # --- figura/ejes ---\n",
    "    if ax is None:\n",
    "        fig, ax = plt.subplots(figsize=(6, 3.8), constrained_layout=True)\n",
    "    else:\n",
    "        fig = ax.figure\n",
    "\n",
    "    # color scale común si se pasa vmax\n",
    "    im = ax.imshow(grid, cmap=cmap, aspect='equal', vmin=vmin, vmax=vmax, interpolation='nearest')\n",
    "\n",
    "    # celdas vacías en gris claro (debajo del heatmap)\n",
    "    for i in range(nrows):\n",
    "        for j in range(ncols):\n",
    "            if mask_empty[i, j]:\n",
    "                ax.add_patch(plt.Rectangle((j-0.5, i-0.5), 1, 1,\n",
    "                                           facecolor='#f0f0f0', edgecolor='none', zorder=-1))\n",
    "\n",
    "    # anotaciones: día (arriba-izq) y conteo (centrado)\n",
    "    gmax = grid.max() if grid.size else 0\n",
    "    for i in range(nrows):\n",
    "        for j in range(ncols):\n",
    "            if not mask_empty[i, j]:\n",
    "                day = weeks[i][j]\n",
    "                ax.text(j-0.43, i-0.4, str(day), fontsize=8, ha='left', va='top', color='black')\n",
    "                ax.text(j, i, str(grid[i, j]), fontsize=10, ha='center', va='center',\n",
    "                        color=('white' if gmax and grid[i, j] > gmax*0.6 else 'black'),fontweight='bold')\n",
    "\n",
    "    today = pd.Timestamp.today().normalize()\n",
    "    if today.year == year and today.month == month:\n",
    "        day = today.day\n",
    "        for i, w in enumerate(weeks):\n",
    "            for j, dday in enumerate(w if not monday_to_saturday else w):\n",
    "                if dday == day:\n",
    "                    circ = plt.Circle((j, i), 0.2, fill=False, linewidth=2, color='tab:blue')\n",
    "                    ax.add_patch(circ)\n",
    "    # ejes\n",
    "    ax.set_xticks(range(ncols))\n",
    "    ax.set_xticklabels(weekday_labels)\n",
    "    ax.set_yticks(range(nrows))\n",
    "    ax.set_yticklabels([f'Sem {k+1}' for k in range(nrows)])\n",
    "    ax.set_title(f\"{calendar.month_name[month]} {year} | Σ={int(grid.sum())}\",\n",
    "             fontweight='bold')\n",
    "    ax.set_xlabel('Día de la semana'); ax.set_ylabel('Semanas')\n",
    "\n",
    "    fig.text(0.001, 0.001, 'Bioalergia Chile | www.bioalergia.cl | ' + fecha_hoy,\n",
    "         fontsize=10, color='gray', ha='left')\n",
    "    # bordes finos y sin grid\n",
    "    for spine in ax.spines.values():\n",
    "        spine.set_visible(False)\n",
    "\n",
    "    # --- columna con sumas por semana ---\n",
    "    if show_week_sums:\n",
    "        week_sums = grid.sum(axis=1)\n",
    "        # ampliamos el eje a una columna extra\n",
    "        ax.set_xlim(-0.5, ncols + 0.6)\n",
    "        # “columna Σ” en gris suave\n",
    "        for i in range(nrows):\n",
    "            ax.add_patch(plt.Rectangle((ncols-0.5, i-0.5), 1.0, 1.0,\n",
    "                                       facecolor='#efefef', edgecolor='white'))\n",
    "            ax.text(ncols, i, str(int(week_sums[i])), ha='center', va='center',\n",
    "                    fontsize=10, color='black', fontweight='bold')\n",
    "        # etiqueta Σ\n",
    "        ax.text(ncols, -0.9, 'Total', ha='center', va='center', fontsize=11, fontweight='bold')\n",
    "        # ticks: añadimos un tick “visual” al final (sin etiqueta en el eje)\n",
    "        ax.set_xticks(list(range(ncols)) + [ncols])\n",
    "        ax.set_xticklabels(weekday_labels + [''])\n",
    "    return fig, ax, im"
   ]
  },
  {
   "cell_type": "code",
   "execution_count": null,
   "id": "6949d350-9a5d-4a6f-99d2-6ac1f4a7bb9e",
   "metadata": {
    "execution": {
     "iopub.execute_input": "2025-08-19T01:06:44.862158Z",
     "iopub.status.busy": "2025-08-19T01:06:44.862081Z",
     "iopub.status.idle": "2025-08-19T01:06:45.675670Z",
     "shell.execute_reply": "2025-08-19T01:06:45.675363Z",
     "shell.execute_reply.started": "2025-08-19T01:06:44.862150Z"
    }
   },
   "outputs": [],
   "source": [
    "months = [7,8, 9]  # Ago, Sep, Oct\n",
    "# mismo máximo para todos (solo cuentas de estos meses)\n",
    "vmax_global = 0\n",
    "for m in months:\n",
    "    v = (df_vacuna\n",
    "         .loc[(data['date'].dt.year==2025) & (data['date'].dt.month==m)]\n",
    "         .groupby(data['date'].dt.day).size()\n",
    "         .max())\n",
    "    vmax_global = max(vmax_global, int(v or 0))\n",
    "\n",
    "fig, axes = plt.subplots(1, 3, figsize=(16, 4.5), layout='constrained')\n",
    "for ax, m in zip(axes, months):\n",
    "    calendar_heatmap_month(\n",
    "        data, 2025, m,\n",
    "        monday_to_saturday=True,\n",
    "        cmap='YlOrRd',\n",
    "        ax=ax,\n",
    "        show_week_sums=True              # << suma por semana\n",
    "    )\n",
    "plt.savefig('8910_15-08_vacunas.pdf',dpi=300)\n",
    "plt.show()"
   ]
  },
  {
   "cell_type": "code",
   "execution_count": 3,
   "id": "11423832-81b0-47ec-a7f2-fdf02724629b",
   "metadata": {},
   "outputs": [],
   "source": [
    "import imaplib\n",
    "import email\n",
    "from email.header import decode_header, make_header\n",
    "import os\n",
    "\n",
    "def decode_str_header(hdr):\n",
    "    # hdr puede ser None\n",
    "    if hdr is None:\n",
    "        return \"\"\n",
    "    # make_header + str convierte un objeto Header en str decodificado\n",
    "    return str(make_header(decode_header(hdr)))\n",
    "\n",
    "def export_folder(imap, folder, out_dir):\n",
    "    status, _ = imap.select(f'\"{folder}\"', readonly=True)\n",
    "    if status != \"OK\":\n",
    "        print(\"Error al abrir carpeta\", folder)\n",
    "        return\n",
    "    status, data = imap.search(None, \"ALL\")\n",
    "    if status != \"OK\":\n",
    "        print(\"Error al buscar correos en\", folder)\n",
    "        return\n",
    "    uids = data[0].split()\n",
    "    os.makedirs(out_dir, exist_ok=True)\n",
    "    for uid in uids:\n",
    "        status, msg_data = imap.fetch(uid, \"(RFC822)\")\n",
    "        if status != \"OK\":\n",
    "            print(\"Error al fetch\", uid)\n",
    "            continue\n",
    "        raw = msg_data[0][1]\n",
    "        msg = email.message_from_bytes(raw)\n",
    "        subj = decode_str_header(msg.get(\"Subject\"))\n",
    "        # limpiar nombre de archivo\n",
    "        safe_subj = subj.replace(\"/\", \"_\").replace(\"\\\\\", \"_\")\n",
    "        # UID es bytes, decodificar\n",
    "        uid_str = uid.decode() if isinstance(uid, bytes) else str(uid)\n",
    "        filename = f\"{uid_str}_{safe_subj}.eml\"\n",
    "        path = os.path.join(out_dir, filename)\n",
    "        with open(path, \"wb\") as f:\n",
    "            f.write(raw)\n",
    "\n",
    "def export_all(imap_host, username, password, base_out=\"backup\"):\n",
    "    imap = imaplib.IMAP4_SSL(imap_host)\n",
    "    imap.login(username, password)\n",
    "    status, folders = imap.list()\n",
    "    if status != \"OK\":\n",
    "        print(\"No se pudo listar carpetas\")\n",
    "        return\n",
    "    for folder_entry in folders:\n",
    "        decoded = folder_entry.decode()\n",
    "        # parsing de línea tipo: b'(\\\\HasNoChildren) \"/\" \"INBOX\"' etc\n",
    "        parts = decoded.split(' \"/\" ')\n",
    "        if len(parts) == 2:\n",
    "            folder = parts[1].strip('\"')\n",
    "        else:\n",
    "            folder = decoded.split()[-1].strip('\"')\n",
    "        safe = folder.replace(\"/\", \"_\")\n",
    "        out_dir = os.path.join(base_out, safe)\n",
    "        export_folder(imap, folder, out_dir)\n",
    "    imap.logout()\n",
    "\n",
    "if __name__ == \"__main__\":\n",
    "    HOST = \"imap.titan.email\"\n",
    "    USER = \"tuusuario@tudominio\"\n",
    "    PASS = \"tucontraseña\"\n",
    "    export_all('imap.titan.email', 'contacto@bioalergia.cl', 'Bioalergia870.', base_out=\"titan_backup/contacto\")"
   ]
  },
  {
   "cell_type": "code",
   "execution_count": null,
   "id": "00744a4a",
   "metadata": {},
   "outputs": [],
   "source": []
  }
 ],
 "metadata": {
  "kernelspec": {
   "display_name": "cosmic",
   "language": "python",
   "name": "python3"
  },
  "language_info": {
   "codemirror_mode": {
    "name": "ipython",
    "version": 3
   },
   "file_extension": ".py",
   "mimetype": "text/x-python",
   "name": "python",
   "nbconvert_exporter": "python",
   "pygments_lexer": "ipython3",
   "version": "3.13.7"
  }
 },
 "nbformat": 4,
 "nbformat_minor": 5
}
